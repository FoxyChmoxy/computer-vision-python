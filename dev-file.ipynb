{
 "cells": [
  {
   "cell_type": "markdown",
   "metadata": {},
   "source": [
    "# Computer Vision"
   ]
  },
  {
   "cell_type": "markdown",
   "metadata": {},
   "source": [
    "### Libraries"
   ]
  },
  {
   "cell_type": "code",
   "execution_count": 8,
   "metadata": {},
   "outputs": [
    {
     "name": "stdout",
     "output_type": "stream",
     "text": [
      "Modules loaded successfully\n"
     ]
    }
   ],
   "source": [
    "import requests\n",
    "import json\n",
    "from watson_developer_cloud import VisualRecognitionV3 as vr\n",
    "from matplotlib import pyplot as plt\n",
    "from PIL import Image\n",
    "from io import BytesIO\n",
    "\n",
    "print(\"Modules loaded successfully\")"
   ]
  },
  {
   "cell_type": "markdown",
   "metadata": {},
   "source": [
    "### Get frames from the video"
   ]
  },
  {
   "cell_type": "code",
   "execution_count": 3,
   "metadata": {},
   "outputs": [],
   "source": [
    "def getFrames(path):\n",
    "    cap= cv2.VideoCapture(path)\n",
    "    i=0\n",
    "    while(cap.isOpened()):\n",
    "        ret, frame = cap.read()\n",
    "        if ret == False:\n",
    "            break\n",
    "        # добавляет в корневую папку и записывает, как kang(i).jpg\n",
    "        cv2.imwrite('kang'+str(i)+'.jpg',frame)\n",
    "        i+=1\n",
    "\n",
    "    cap.release()\n",
    "    cv2.destroyAllWindows()\n",
    "    \n",
    "# getFrames(\"IMG_0072.MOV\")"
   ]
  },
  {
   "cell_type": "markdown",
   "metadata": {},
   "source": [
    "### Face detection by using cv2 data"
   ]
  },
  {
   "cell_type": "code",
   "execution_count": 4,
   "metadata": {},
   "outputs": [],
   "source": [
    "face_cascade = cv2.CascadeClassifier('data/haarcascade_frontalface_alt2.xml')\n",
    "\n",
    "def webcam():\n",
    "    cap = cv2.VideoCapture(0)\n",
    "\n",
    "    if not cap.isOpened():\n",
    "        raise IOError(\"Cannot open webcam\")\n",
    "\n",
    "    try:\n",
    "        while True:\n",
    "            ret, frame = cap.read()\n",
    "            gray = cv2.cvtColor(frame, cv2.COLOR_BGR2GRAY)\n",
    "            faces = face_cascade.detectMultiScale(gray, scaleFactor=1.5, minNeighbors=5)\n",
    "\n",
    "            # face detection\n",
    "            for (x, y, w, h) in faces:\n",
    "                roi_gray = gray[y:y+h, x:x+w] #ycord_start, ycord_end\n",
    "                roi_color = frame[y:y+h, x:x+w]\n",
    "                img_item = \"face.png\"\n",
    "                cv2.imwrite(img_item, roi_gray)\n",
    "\n",
    "                color = (0, 0, 255) #BGR\n",
    "                stroke = 2\n",
    "                x_end = x + w\n",
    "                y_end = y + h\n",
    "                cv2.rectangle(frame, (x, y), (x_end, y_end), color, stroke)\n",
    "\n",
    "            frame = cv2.resize(frame, None, fx=0.5, fy=0.5, interpolation=cv2.INTER_AREA)\n",
    "            cv2.imshow('Input', frame)\n",
    "\n",
    "            c = cv2.waitKey(1)\n",
    "            if c == 27:\n",
    "                break\n",
    "\n",
    "        cap.release()\n",
    "        cv2.destroyAllWindows()\n",
    "\n",
    "    except Exception as e:\n",
    "        cap.release()\n",
    "        cv2.destroyAllWindows()\n",
    "        print(e)\n",
    "        \n",
    "# webcam()\n",
    "\n",
    "# last face recognition\n",
    "\n",
    "# img = io.imread('face.png')\n",
    "# plt.imshow(img)"
   ]
  },
  {
   "cell_type": "markdown",
   "metadata": {},
   "source": [
    "### Trainable data (../images/studentFIO/studnetFIO .jpg | .png)"
   ]
  },
  {
   "cell_type": "code",
   "execution_count": 19,
   "metadata": {},
   "outputs": [],
   "source": [
    "base_dir   = os.path.dirname(os.path.abspath(''))\n",
    "image_dir  = os.path.join(base_dir, \"face-recognition\\images\")\n",
    "recognizer = cv2.face.LBPHFaceRecognizer_create()\n",
    "\n",
    "current_id = 0\n",
    "label_ids  = {}\n",
    "y_labels   = []\n",
    "x_train    = []\n",
    "\n",
    "for root, dirs, files in os.walk(image_dir):\n",
    "    for file in files:\n",
    "        if file.endswith(\"png\") or file.endswith(\"jpg\"):\n",
    "            path  = os.path.join(root, file)\n",
    "            label = os.path.basename(os.path.dirname(path)).replace(\" \", \"-\").lower()\n",
    "            if not label in label_ids:\n",
    "                label_ids[label] = current_id\n",
    "                current_id += 1\n",
    "            id_ = label_ids[label]\n",
    "            pil_image   = Image.open(path).convert(\"L\") # gray\n",
    "            final_image = pil_image.resize((550, 550), Image.ANTIALIAS)\n",
    "            image_array = np.array(pil_image, \"uint8\")\n",
    "            faces = face_cascade.detectMultiScale(image_array, scaleFactor=1.5, minNeighbors=5)\n",
    "            for (x, y, w, h) in faces:\n",
    "                roi = image_array[y:y+h, x:x+w]\n",
    "                x_train.append(roi)\n",
    "                y_labels.append(id_)\n",
    "\n",
    "with open(\"labels.pickle\", \"wb\") as f:\n",
    "    pickle.dump(label_ids, f)\n",
    "    \n",
    "recognizer.train(x_train, np.array(y_labels))\n",
    "recognizer.save(\"trainer.yml\")"
   ]
  },
  {
   "cell_type": "markdown",
   "metadata": {},
   "source": [
    "### Using recognizer to identify the user"
   ]
  },
  {
   "cell_type": "code",
   "execution_count": null,
   "metadata": {},
   "outputs": [],
   "source": [
    "recognizer.read(\"trainer.yml\")\n",
    "labels = {y:x for x, y in label_ids.items()}\n",
    "\n",
    "cap = cv2.VideoCapture(0)\n",
    "\n",
    "if not cap.isOpened():\n",
    "    raise IOError(\"Cannot open webcam\")\n",
    "\n",
    "try:\n",
    "    while True:\n",
    "        ret, frame = cap.read()\n",
    "        gray = cv2.cvtColor(frame, cv2.COLOR_BGR2GRAY)\n",
    "        faces = face_cascade.detectMultiScale(gray, scaleFactor=1.5, minNeighbors=5)\n",
    "\n",
    "        # face detection\n",
    "        for (x, y, w, h) in faces:\n",
    "            roi_gray = gray[y:y+h, x:x+w] #ycord_start, ycord_end\n",
    "            roi_color = frame[y:y+h, x:x+w]\n",
    "\n",
    "            id_, conf = recognizer.predict(roi_gray)\n",
    "            if conf >= 45:\n",
    "                font  = cv2.FONT_HERSHEY_SIMPLEX\n",
    "                name  = labels[id_]\n",
    "                color = (0, 0, 255)\n",
    "                stroke = 2\n",
    "                cv2.putText(frame, name, (x,y), font, 1, color, stroke, cv2.LINE_AA)\n",
    "            img_item  = \"face.png\"\n",
    "            cv2.imwrite(img_item, roi_gray)\n",
    "\n",
    "            color = (0, 0, 255) #BGR\n",
    "            stroke = 2\n",
    "            x_end = x + w\n",
    "            y_end = y + h\n",
    "            cv2.rectangle(frame, (x, y), (x_end, y_end), color, stroke)\n",
    "\n",
    "#         frame = cv2.resize(frame, None, fx=0.5, fy=0.5, interpolation=cv2.INTER_AREA)\n",
    "        cv2.imshow('Input', frame)\n",
    "\n",
    "        c = cv2.waitKey(1)\n",
    "        if c == 27:\n",
    "            break\n",
    "\n",
    "    cap.release()\n",
    "    cv2.destroyAllWindows()\n",
    "    \n",
    "except Exception as e:\n",
    "    cap.release()\n",
    "    cv2.destroyAllWindows()\n",
    "    print(e)"
   ]
  },
  {
   "cell_type": "code",
   "execution_count": 7,
   "metadata": {},
   "outputs": [
    {
     "name": "stderr",
     "output_type": "stream",
     "text": [
      "C:\\Users\\Almas\\.conda\\envs\\ComputerVision\\lib\\site-packages\\ipykernel_launcher.py:13: DeprecationWarning: watson-developer-cloud moved to ibm-watson. To get updates, use the new package.\n",
      "  del sys.path[0]\n"
     ]
    }
   ],
   "source": [
    "api_key = 'RPhl6U-7G_zXeKcywSOFt1fIMzs6gfMtUSm2Ah3BmWA6'\n",
    "api_url = 'https://gateway.watsonplatform.net/visual-recognition/api'\n",
    "sdk_version = '2019-02-01'\n",
    "ibm_enable = True\n",
    "\n",
    "# Webcam\n",
    "cap = cv2.VideoCapture(0)\n",
    "\n",
    "if not cap.isOpened():\n",
    "    raise IOError(\"Cannot open webcam\")\n",
    "\n",
    "\n",
    "instance = vr(iam_apikey = api_key, version= sdk_version)\n",
    "img = instance.classify(url=url_image)\n",
    "\n",
    "result = img.result\n",
    "images = result[\"images\"]\n",
    "classifiers = images[0][\"classifiers\"]\n",
    "classes = classifiers[0][\"classes\"]\n",
    "\n",
    "text = classes[0][\"class\"]\n",
    "\n",
    "try:\n",
    "    while True:\n",
    "        ret, frame = cap.read()\n",
    "        text = \"HELLO WORLD\"\n",
    "        cv2.putText(frame, text, (30, 30), cv2.FONT_HERSHEY_SIMPLEX, 1.0, (0, 0, 255), lineType=cv2.LINE_AA)\n",
    "        cv2.imshow('Input', frame)\n",
    "\n",
    "        c = cv2.waitKey(1)\n",
    "    \n",
    "        if c == 27:\n",
    "            break\n",
    "\n",
    "    cap.release()\n",
    "    cv2.destroyAllWindows()\n",
    "\n",
    "except Exception as e:\n",
    "    cap.release()\n",
    "    cv2.destroyAllWindows()\n",
    "    print(e)"
   ]
  }
 ],
 "metadata": {
  "kernelspec": {
   "display_name": "Python 3",
   "language": "python",
   "name": "python3"
  },
  "language_info": {
   "codemirror_mode": {
    "name": "ipython",
    "version": 3
   },
   "file_extension": ".py",
   "mimetype": "text/x-python",
   "name": "python",
   "nbconvert_exporter": "python",
   "pygments_lexer": "ipython3",
   "version": "3.7.4"
  }
 },
 "nbformat": 4,
 "nbformat_minor": 4
}
