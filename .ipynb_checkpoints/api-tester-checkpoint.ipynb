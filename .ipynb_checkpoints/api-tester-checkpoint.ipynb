{
 "cells": [
  {
   "cell_type": "markdown",
   "metadata": {},
   "source": [
    "# Analysis and verification of api"
   ]
  },
  {
   "cell_type": "markdown",
   "metadata": {},
   "source": [
    "### Libraries"
   ]
  },
  {
   "cell_type": "code",
   "execution_count": 1,
   "metadata": {},
   "outputs": [
    {
     "name": "stdout",
     "output_type": "stream",
     "text": [
      "Libraries loaded successfully\n"
     ]
    }
   ],
   "source": [
    "import requests\n",
    "print(\"Libraries loaded successfully\")"
   ]
  },
  {
   "cell_type": "markdown",
   "metadata": {},
   "source": [
    "#### Kairos"
   ]
  },
  {
   "cell_type": "code",
   "execution_count": 2,
   "metadata": {},
   "outputs": [
    {
     "name": "stdout",
     "output_type": "stream",
     "text": [
      "{\"message\":\"You are not subscribed to this API.\"}\n"
     ]
    }
   ],
   "source": [
    "url = \"https://kairosapi-karios-v1.p.rapidapi.com/gallery/list_all\"\n",
    "\n",
    "payload = \"\"\n",
    "headers = {\n",
    "    'x-rapidapi-host': \"kairosapi-karios-v1.p.rapidapi.com\",\n",
    "    'x-rapidapi-key': \"b8868c2d83msh156c8dfa9feb27bp1d459bjsn76853da5122e\",\n",
    "    'content-type': \"application/x-www-form-urlencoded\"\n",
    "    }\n",
    "\n",
    "response = requests.request(\"POST\", url, data=payload, headers=headers)\n",
    "\n",
    "print(response.text)"
   ]
  },
  {
   "cell_type": "markdown",
   "metadata": {},
   "source": [
    "#### FaceX"
   ]
  },
  {
   "cell_type": "code",
   "execution_count": 3,
   "metadata": {},
   "outputs": [
    {
     "name": "stdout",
     "output_type": "stream",
     "text": [
      "{\"message\":\"You are not subscribed to this API.\"}\n"
     ]
    }
   ],
   "source": [
    "url = \"https://facex-facex-v1.p.rapidapi.com/get_image_attr\"\n",
    "\n",
    "querystring = {\"bboxes\":\"50,100,150,200\",\"face_det\":\"1\"}\n",
    "\n",
    "payload = \"image_attr=https%3A%2F%2Fupload.wikimedia.org%2Fwikipedia%2Fcommons%2Fthumb%2Fc%2Fcb%2FMohanlal_Viswanathan_Nair_BNC.jpg%2F240px-Mohanlal_Viswanathan_Nair_BNC.jpg\"\n",
    "headers = {\n",
    "    'x-rapidapi-host': \"facex-facex-v1.p.rapidapi.com\",\n",
    "    'x-rapidapi-key': \"b8868c2d83msh156c8dfa9feb27bp1d459bjsn76853da5122e\",\n",
    "    'user_key': \"489896a4897f8b99af2c\",\n",
    "    'user_id': \"7041acf0f54c5cf35f63\",\n",
    "    'content-type': \"application/x-www-form-urlencoded\"\n",
    "    }\n",
    "\n",
    "response = requests.request(\"POST\", url, data=payload, headers=headers, params=querystring)\n",
    "\n",
    "print(response.text)"
   ]
  },
  {
   "cell_type": "markdown",
   "metadata": {},
   "source": [
    "#### Microsoft"
   ]
  },
  {
   "cell_type": "code",
   "execution_count": 4,
   "metadata": {},
   "outputs": [
    {
     "name": "stdout",
     "output_type": "stream",
     "text": [
      "{\"message\":\"You are not subscribed to this API.\"}\n"
     ]
    }
   ],
   "source": [
    "url = \"https://microsoft-azure-microsoft-computer-vision-v1.p.rapidapi.com/analyze\"\n",
    "\n",
    "querystring = {\"visualfeatures\":\"Categories,Tags,Color,Faces,Description\"}\n",
    "\n",
    "payload = \"\"\n",
    "headers = {\n",
    "    'x-rapidapi-host': \"microsoft-azure-microsoft-computer-vision-v1.p.rapidapi.com\",\n",
    "    'x-rapidapi-key': \"b8868c2d83msh156c8dfa9feb27bp1d459bjsn76853da5122e\",\n",
    "    'content-type': \"application/x-www-form-urlencoded\"\n",
    "    }\n",
    "\n",
    "response = requests.request(\"POST\", url, data=payload, headers=headers, params=querystring)\n",
    "\n",
    "print(response.text)"
   ]
  },
  {
   "cell_type": "markdown",
   "metadata": {},
   "source": [
    "#### Amazon Rekognition"
   ]
  },
  {
   "cell_type": "code",
   "execution_count": 10,
   "metadata": {},
   "outputs": [
    {
     "name": "stdout",
     "output_type": "stream",
     "text": [
      "{\"callback\":\"error\",\"contextWrites\":{\"to\":{\"status_code\":\"API_ERROR\",\"status_msg\":{}}}}\n"
     ]
    }
   ],
   "source": [
    "url = \"https://awsrekognitionserg-osipchukv1.p.rapidapi.com/detectFacesInImage\"\n",
    "\n",
    "payload = \"image=https%3A%2F%2Fcnet3.cbsistatic.com%2Fimg%2Fgk7d6AQXuqmtPNmnZI2gMaNySyA%3D%2F970x0%2F2018%2F09%2F05%2F7274da05-85a9-4646-b41f-a4b22c597507%2Fcaptain-marvel-brie-larson-1.jpg\"\n",
    "headers = {\n",
    "    'x-rapidapi-host': \"AWSRekognitionserg-osipchukV1.p.rapidapi.com\",\n",
    "    'x-rapidapi-key': \"b8868c2d83msh156c8dfa9feb27bp1d459bjsn76853da5122e\",\n",
    "    'content-type': \"application/x-www-form-urlencoded\"\n",
    "    }\n",
    "\n",
    "response = requests.request(\"POST\", url, data=payload, headers=headers)\n",
    "\n",
    "print(response.text)"
   ]
  },
  {
   "cell_type": "markdown",
   "metadata": {},
   "source": [
    "#### Face Recognition and Face Detection by Lambda Labs "
   ]
  },
  {
   "cell_type": "code",
   "execution_count": 6,
   "metadata": {},
   "outputs": [
    {
     "name": "stdout",
     "output_type": "stream",
     "text": [
      "{\"message\":\"You are not subscribed to this API.\"}\n"
     ]
    }
   ],
   "source": [
    "url = \"https://lambda-face-recognition.p.rapidapi.com/album_train\"\n",
    "\n",
    "querystring = {\"album\":\"CELEBS\",\"albumkey\":\"b1ccb6caa8cefb7347d0cfb65146d5e3f84608f6ee55b1c90d37ed4ecca9b273\",\"entryid\":\"TigerWoods\"}\n",
    "\n",
    "headers = {\n",
    "    'x-rapidapi-host': \"lambda-face-recognition.p.rapidapi.com\",\n",
    "    'x-rapidapi-key': \"b8868c2d83msh156c8dfa9feb27bp1d459bjsn76853da5122e\"\n",
    "    }\n",
    "\n",
    "response = requests.request(\"GET\", url, headers=headers, params=querystring)\n",
    "\n",
    "print(response.text)"
   ]
  },
  {
   "cell_type": "markdown",
   "metadata": {},
   "source": [
    "#### Face++"
   ]
  },
  {
   "cell_type": "markdown",
   "metadata": {},
   "source": [
    "##### Note: This API also has an offline SDK for iOS & Android. The offline SDK does not provide face recognition, but it can perform face detection, comparing, tracking and landmarks"
   ]
  },
  {
   "cell_type": "code",
   "execution_count": 7,
   "metadata": {},
   "outputs": [
    {
     "name": "stdout",
     "output_type": "stream",
     "text": [
      "{\"time_used\": 351, \"faces\": [{\"face_rectangle\": {\"width\": 91, \"top\": 92, \"left\": 526, \"height\": 91}, \"face_token\": \"a76d0279e4b686317f9c64b56fda12e5\"}], \"image_id\": \"aPqOEzNOGWU4vj9M6WCIsg==\", \"request_id\": \"1569533945,2f9c613a-ce29-4b93-8a11-f8e034d207c7\", \"face_num\": 1}\n"
     ]
    }
   ],
   "source": [
    "url = \"https://faceplusplus-faceplusplus.p.rapidapi.com/facepp/v3/detect\"\n",
    "\n",
    "querystring = {\"image_url\":\"https://cnet3.cbsistatic.com/img/gk7d6AQXuqmtPNmnZI2gMaNySyA=/970x0/2018/09/05/7274da05-85a9-4646-b41f-a4b22c597507/captain-marvel-brie-larson-1.jpg\"}\n",
    "\n",
    "payload = \"\"\n",
    "headers = {\n",
    "    'x-rapidapi-host': \"faceplusplus-faceplusplus.p.rapidapi.com\",\n",
    "    'x-rapidapi-key': \"b8868c2d83msh156c8dfa9feb27bp1d459bjsn76853da5122e\",\n",
    "    'content-type': \"application/x-www-form-urlencoded\"\n",
    "    }\n",
    "\n",
    "response = requests.request(\"POST\", url, data=payload, headers=headers, params=querystring)\n",
    "\n",
    "print(response.text)"
   ]
  },
  {
   "cell_type": "markdown",
   "metadata": {},
   "source": [
    "#### IBM Watson Visual Recognition  "
   ]
  },
  {
   "cell_type": "code",
   "execution_count": 8,
   "metadata": {},
   "outputs": [
    {
     "name": "stdout",
     "output_type": "stream",
     "text": [
      "       {\"callback\":\"error\",\"contextWrites\":{\"to\":{\"status_code\":\"REQUIRED_FIELDS\",\"status_msg\":\"Please, check and fill in required fields.\",\"fields\":[\"apiKey\",\"imageUrl\",\"version\"]}}}\n"
     ]
    }
   ],
   "source": [
    "url = \"https://ibmwatsonvisualrecognitionvolodimir-kudriachenkov1.p.rapidapi.com/classifyImage\"\n",
    "\n",
    "payload = \"\"\n",
    "headers = {\n",
    "    'x-rapidapi-host': \"IBMWatsonVisualRecognitionvolodimir-kudriachenkoV1.p.rapidapi.com\",\n",
    "    'x-rapidapi-key': \"b8868c2d83msh156c8dfa9feb27bp1d459bjsn76853da5122e\",\n",
    "    'content-type': \"application/x-www-form-urlencoded\"\n",
    "    }\n",
    "\n",
    "response = requests.request(\"POST\", url, data=payload, headers=headers)\n",
    "\n",
    "print(response.text)"
   ]
  },
  {
   "cell_type": "code",
   "execution_count": null,
   "metadata": {},
   "outputs": [],
   "source": []
  }
 ],
 "metadata": {
  "kernelspec": {
   "display_name": "Python 3",
   "language": "python",
   "name": "python3"
  },
  "language_info": {
   "codemirror_mode": {
    "name": "ipython",
    "version": 3
   },
   "file_extension": ".py",
   "mimetype": "text/x-python",
   "name": "python",
   "nbconvert_exporter": "python",
   "pygments_lexer": "ipython3",
   "version": "3.7.4"
  }
 },
 "nbformat": 4,
 "nbformat_minor": 4
}
